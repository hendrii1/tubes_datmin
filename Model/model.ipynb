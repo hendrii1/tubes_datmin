{
 "cells": [
  {
   "cell_type": "code",
   "execution_count": 31,
   "id": "daa37318",
   "metadata": {},
   "outputs": [
    {
     "name": "stdout",
     "output_type": "stream",
     "text": [
      "Requirement already satisfied: pandas in e:\\guilotine file\\telyu sby\\semester 6\\data mining 06-03\\tubes\\.venv\\lib\\site-packages (2.3.0)\n",
      "Requirement already satisfied: numpy in e:\\guilotine file\\telyu sby\\semester 6\\data mining 06-03\\tubes\\.venv\\lib\\site-packages (2.3.0)\n",
      "Requirement already satisfied: matplotlib in e:\\guilotine file\\telyu sby\\semester 6\\data mining 06-03\\tubes\\.venv\\lib\\site-packages (3.10.3)\n",
      "Requirement already satisfied: seaborn in e:\\guilotine file\\telyu sby\\semester 6\\data mining 06-03\\tubes\\.venv\\lib\\site-packages (0.13.2)\n",
      "Requirement already satisfied: scipy in e:\\guilotine file\\telyu sby\\semester 6\\data mining 06-03\\tubes\\.venv\\lib\\site-packages (1.15.3)\n",
      "Collecting scikit-learn\n",
      "  Downloading scikit_learn-1.7.0-cp312-cp312-win_amd64.whl.metadata (14 kB)\n",
      "Requirement already satisfied: python-dateutil>=2.8.2 in e:\\guilotine file\\telyu sby\\semester 6\\data mining 06-03\\tubes\\.venv\\lib\\site-packages (from pandas) (2.9.0.post0)\n",
      "Requirement already satisfied: pytz>=2020.1 in e:\\guilotine file\\telyu sby\\semester 6\\data mining 06-03\\tubes\\.venv\\lib\\site-packages (from pandas) (2025.2)\n",
      "Requirement already satisfied: tzdata>=2022.7 in e:\\guilotine file\\telyu sby\\semester 6\\data mining 06-03\\tubes\\.venv\\lib\\site-packages (from pandas) (2025.2)\n",
      "Requirement already satisfied: contourpy>=1.0.1 in e:\\guilotine file\\telyu sby\\semester 6\\data mining 06-03\\tubes\\.venv\\lib\\site-packages (from matplotlib) (1.3.2)\n",
      "Requirement already satisfied: cycler>=0.10 in e:\\guilotine file\\telyu sby\\semester 6\\data mining 06-03\\tubes\\.venv\\lib\\site-packages (from matplotlib) (0.12.1)\n",
      "Requirement already satisfied: fonttools>=4.22.0 in e:\\guilotine file\\telyu sby\\semester 6\\data mining 06-03\\tubes\\.venv\\lib\\site-packages (from matplotlib) (4.58.2)\n",
      "Requirement already satisfied: kiwisolver>=1.3.1 in e:\\guilotine file\\telyu sby\\semester 6\\data mining 06-03\\tubes\\.venv\\lib\\site-packages (from matplotlib) (1.4.8)\n",
      "Requirement already satisfied: packaging>=20.0 in e:\\guilotine file\\telyu sby\\semester 6\\data mining 06-03\\tubes\\.venv\\lib\\site-packages (from matplotlib) (25.0)\n",
      "Requirement already satisfied: pillow>=8 in e:\\guilotine file\\telyu sby\\semester 6\\data mining 06-03\\tubes\\.venv\\lib\\site-packages (from matplotlib) (11.2.1)\n",
      "Requirement already satisfied: pyparsing>=2.3.1 in e:\\guilotine file\\telyu sby\\semester 6\\data mining 06-03\\tubes\\.venv\\lib\\site-packages (from matplotlib) (3.2.3)\n",
      "Collecting joblib>=1.2.0 (from scikit-learn)\n",
      "  Using cached joblib-1.5.1-py3-none-any.whl.metadata (5.6 kB)\n",
      "Collecting threadpoolctl>=3.1.0 (from scikit-learn)\n",
      "  Using cached threadpoolctl-3.6.0-py3-none-any.whl.metadata (13 kB)\n",
      "Requirement already satisfied: six>=1.5 in e:\\guilotine file\\telyu sby\\semester 6\\data mining 06-03\\tubes\\.venv\\lib\\site-packages (from python-dateutil>=2.8.2->pandas) (1.17.0)\n",
      "Downloading scikit_learn-1.7.0-cp312-cp312-win_amd64.whl (10.7 MB)\n",
      "   ---------------------------------------- 0.0/10.7 MB ? eta -:--:--\n",
      "    --------------------------------------- 0.3/10.7 MB ? eta -:--:--\n",
      "   - -------------------------------------- 0.5/10.7 MB 1.7 MB/s eta 0:00:07\n",
      "   -- ------------------------------------- 0.8/10.7 MB 1.5 MB/s eta 0:00:07\n",
      "   ---- ----------------------------------- 1.3/10.7 MB 1.6 MB/s eta 0:00:06\n",
      "   ---- ----------------------------------- 1.3/10.7 MB 1.6 MB/s eta 0:00:06\n",
      "   ----- ---------------------------------- 1.6/10.7 MB 1.4 MB/s eta 0:00:07\n",
      "   ------ --------------------------------- 1.8/10.7 MB 1.4 MB/s eta 0:00:07\n",
      "   ------- -------------------------------- 2.1/10.7 MB 1.3 MB/s eta 0:00:07\n",
      "   -------- ------------------------------- 2.4/10.7 MB 1.3 MB/s eta 0:00:07\n",
      "   --------- ------------------------------ 2.6/10.7 MB 1.3 MB/s eta 0:00:07\n",
      "   --------- ------------------------------ 2.6/10.7 MB 1.3 MB/s eta 0:00:07\n",
      "   ---------- ----------------------------- 2.9/10.7 MB 1.2 MB/s eta 0:00:07\n",
      "   ------------ --------------------------- 3.4/10.7 MB 1.3 MB/s eta 0:00:06\n",
      "   ------------ --------------------------- 3.4/10.7 MB 1.3 MB/s eta 0:00:06\n",
      "   ------------- -------------------------- 3.7/10.7 MB 1.2 MB/s eta 0:00:06\n",
      "   -------------- ------------------------- 3.9/10.7 MB 1.2 MB/s eta 0:00:06\n",
      "   ---------------- ----------------------- 4.5/10.7 MB 1.3 MB/s eta 0:00:05\n",
      "   ----------------- ---------------------- 4.7/10.7 MB 1.3 MB/s eta 0:00:05\n",
      "   ------------------- -------------------- 5.2/10.7 MB 1.3 MB/s eta 0:00:05\n",
      "   -------------------- ------------------- 5.5/10.7 MB 1.3 MB/s eta 0:00:04\n",
      "   -------------------- ------------------- 5.5/10.7 MB 1.3 MB/s eta 0:00:04\n",
      "   ---------------------- ----------------- 6.0/10.7 MB 1.3 MB/s eta 0:00:04\n",
      "   ---------------------- ----------------- 6.0/10.7 MB 1.3 MB/s eta 0:00:04\n",
      "   ----------------------- ---------------- 6.3/10.7 MB 1.3 MB/s eta 0:00:04\n",
      "   ------------------------ --------------- 6.6/10.7 MB 1.3 MB/s eta 0:00:04\n",
      "   -------------------------- ------------- 7.1/10.7 MB 1.3 MB/s eta 0:00:03\n",
      "   --------------------------- ------------ 7.3/10.7 MB 1.3 MB/s eta 0:00:03\n",
      "   ---------------------------- ----------- 7.6/10.7 MB 1.3 MB/s eta 0:00:03\n",
      "   ----------------------------- ---------- 7.9/10.7 MB 1.3 MB/s eta 0:00:03\n",
      "   ------------------------------ --------- 8.1/10.7 MB 1.3 MB/s eta 0:00:02\n",
      "   ------------------------------- -------- 8.4/10.7 MB 1.3 MB/s eta 0:00:02\n",
      "   -------------------------------- ------- 8.7/10.7 MB 1.3 MB/s eta 0:00:02\n",
      "   --------------------------------- ------ 8.9/10.7 MB 1.3 MB/s eta 0:00:02\n",
      "   ---------------------------------- ----- 9.2/10.7 MB 1.3 MB/s eta 0:00:02\n",
      "   ------------------------------------ --- 9.7/10.7 MB 1.3 MB/s eta 0:00:01\n",
      "   ------------------------------------- -- 10.0/10.7 MB 1.3 MB/s eta 0:00:01\n",
      "   ---------------------------------------  10.5/10.7 MB 1.4 MB/s eta 0:00:01\n",
      "   ---------------------------------------- 10.7/10.7 MB 1.4 MB/s eta 0:00:00\n",
      "Using cached joblib-1.5.1-py3-none-any.whl (307 kB)\n",
      "Using cached threadpoolctl-3.6.0-py3-none-any.whl (18 kB)\n",
      "Installing collected packages: threadpoolctl, joblib, scikit-learn\n",
      "Successfully installed joblib-1.5.1 scikit-learn-1.7.0 threadpoolctl-3.6.0\n",
      "Note: you may need to restart the kernel to use updated packages.\n"
     ]
    },
    {
     "name": "stderr",
     "output_type": "stream",
     "text": [
      "\n",
      "[notice] A new release of pip is available: 24.2 -> 25.1.1\n",
      "[notice] To update, run: python.exe -m pip install --upgrade pip\n"
     ]
    }
   ],
   "source": [
    "pip install pandas numpy matplotlib seaborn scipy scikit-learn"
   ]
  },
  {
   "cell_type": "code",
   "execution_count": null,
   "id": "8a9a810b",
   "metadata": {},
   "outputs": [],
   "source": [
    "# Pemeriksaan Awal Dataset"
   ]
  },
  {
   "cell_type": "code",
   "execution_count": 23,
   "id": "0a6eecdb",
   "metadata": {},
   "outputs": [
    {
     "name": "stdout",
     "output_type": "stream",
     "text": [
      "Sample 5 data teratas :\n",
      "    gender race/ethnicity parental level of education         lunch  \\\n",
      "0  female        group B           bachelor's degree      standard   \n",
      "1  female        group C                some college      standard   \n",
      "2  female        group B             master's degree      standard   \n",
      "3    male        group A          associate's degree  free/reduced   \n",
      "4    male        group C                some college      standard   \n",
      "\n",
      "  test preparation course  math score  reading score  writing score  \n",
      "0                    none          72             72             74  \n",
      "1               completed          69             90             88  \n",
      "2                    none          90             95             93  \n",
      "3                    none          47             57             44  \n",
      "4                    none          76             78             75  \n",
      "****************************************\n",
      "<class 'pandas.core.frame.DataFrame'>\n",
      "RangeIndex: 1000 entries, 0 to 999\n",
      "Data columns (total 8 columns):\n",
      " #   Column                       Non-Null Count  Dtype \n",
      "---  ------                       --------------  ----- \n",
      " 0   gender                       1000 non-null   object\n",
      " 1   race/ethnicity               1000 non-null   object\n",
      " 2   parental level of education  1000 non-null   object\n",
      " 3   lunch                        1000 non-null   object\n",
      " 4   test preparation course      1000 non-null   object\n",
      " 5   math score                   1000 non-null   int64 \n",
      " 6   reading score                1000 non-null   int64 \n",
      " 7   writing score                1000 non-null   int64 \n",
      "dtypes: int64(3), object(5)\n",
      "memory usage: 62.6+ KB\n",
      "Info data :\n",
      " None\n",
      "**************************************** \n",
      "\n",
      "\n"
     ]
    }
   ],
   "source": [
    "#Import Library Yang Dibutuhkan \n",
    "import pandas as pd \n",
    "import matplotlib.pyplot as plt  \n",
    "\n",
    "#Import Data\n",
    "df = pd.read_csv('StudentsPerformance.csv') \n",
    "\n",
    "#Lihat sample data dan Info data \n",
    "print('Sample 5 data teratas :\\n',df.head())\n",
    "print(20*'**')\n",
    "print('Info data :\\n',df.info())\n",
    "print(20*'**','\\n\\n')\n"
   ]
  },
  {
   "cell_type": "code",
   "execution_count": null,
   "id": "f1084527",
   "metadata": {},
   "outputs": [],
   "source": [
    "# Pembersihan Data (Cleaning)"
   ]
  },
  {
   "cell_type": "code",
   "execution_count": 24,
   "id": "b5036189",
   "metadata": {},
   "outputs": [
    {
     "name": "stdout",
     "output_type": "stream",
     "text": [
      "Cek Jumlah Missing Value pada setiap kolom :\n",
      " gender                         0\n",
      "race/ethnicity                 0\n",
      "parental level of education    0\n",
      "lunch                          0\n",
      "test preparation course        0\n",
      "math score                     0\n",
      "reading score                  0\n",
      "writing score                  0\n",
      "dtype: int64\n",
      "****************************************\n",
      "Jumlah Duplicated data :\n",
      " 0\n"
     ]
    }
   ],
   "source": [
    "print('Cek Jumlah Missing Value pada setiap kolom :\\n',df.isna().sum())\n",
    "print(20*'**') \n",
    "# Lihat Jumlah Duplicated Data \n",
    "print('Jumlah Duplicated data :\\n',df.duplicated().sum())"
   ]
  },
  {
   "cell_type": "code",
   "execution_count": 25,
   "id": "7b97a8fe",
   "metadata": {},
   "outputs": [
    {
     "data": {
      "image/png": "[encoded data removed]",
      "text/plain": [
       "<Figure size 640x480 with 1 Axes>"
      ]
     },
     "metadata": {},
     "output_type": "display_data"
    },
    {
     "name": "stdout",
     "output_type": "stream",
     "text": [
      "Jumlah Baris Sebelum Outlier dibuang: 1000\n",
      "****************************************\n"
     ]
    }
   ],
   "source": [
    "kolom_numerik = ['math score','reading score','writing score'] \n",
    "plt.boxplot(df[kolom_numerik])\n",
    "plt.title('Sebelum Outlier Dibuang')\n",
    "plt.show()  \n",
    "\n",
    "# Data Sebelum dibuang outliernya \n",
    "print(f'Jumlah Baris Sebelum Outlier dibuang: {df.shape[0]}') \n",
    "print(20*'**')"
   ]
  },
  {
   "cell_type": "code",
   "execution_count": 26,
   "id": "4ed12c80",
   "metadata": {},
   "outputs": [
    {
     "data": {
      "image/png": "[encoded data removed]",
      "text/plain": [
       "<Figure size 640x480 with 1 Axes>"
      ]
     },
     "metadata": {},
     "output_type": "display_data"
    },
    {
     "name": "stdout",
     "output_type": "stream",
     "text": [
      "Jumlah Baris setelah outlier dibuang: 988\n"
     ]
    }
   ],
   "source": [
    "# Q1, Q3, dan IQR\n",
    "Q1 = df[kolom_numerik].quantile(0.25)\n",
    "Q3 = df[kolom_numerik].quantile(0.75)\n",
    "IQR = Q3 - Q1\n",
    "df = df[~((df[kolom_numerik] < (Q1 - 1.5 * IQR)) | (df[kolom_numerik] > (Q3 + 1.5 * IQR))).any(axis=1)]\n",
    "\n",
    "#Cek outlier setelah dibuang\n",
    "plt.boxplot(df[kolom_numerik])\n",
    "plt.title('Setelah Outlier Dibuang')\n",
    "plt.show() \n",
    "print(f'Jumlah Baris setelah outlier dibuang: {df.shape[0]}') "
   ]
  },
  {
   "cell_type": "code",
   "execution_count": 27,
   "id": "8490c468",
   "metadata": {},
   "outputs": [
    {
     "name": "stdout",
     "output_type": "stream",
     "text": [
      "Data Setelah ditambah kolom baru:    gender parental level of education  math score  reading score  \\\n",
      "0  female           bachelor's degree          72             72   \n",
      "1  female                some college          69             90   \n",
      "2  female             master's degree          90             95   \n",
      "3    male          associate's degree          47             57   \n",
      "4    male                some college          76             78   \n",
      "\n",
      "   writing score  final score  \n",
      "0             74    72.666667  \n",
      "1             88    82.333333  \n",
      "2             93    92.666667  \n",
      "3             44    49.333333  \n",
      "4             75    76.333333  \n"
     ]
    }
   ],
   "source": [
    "# Menghapus kolom yang tidak diperlukan\n",
    "df = df.drop(columns=['race/ethnicity', 'lunch', 'test preparation course'])\n",
    "\n",
    "# Membuat Kolom baru bernama 'final score' setelah penghapusan kolom\n",
    "df['final score'] = df[['math score', 'reading score', 'writing score']].mean(axis=1)\n",
    "\n",
    "# Menampilkan data setelah kolom baru ditambahkan\n",
    "print('Data Setelah ditambah kolom baru:', df.head())\n",
    "\n",
    "# Save data yang sudah bersih\n",
    "df.to_csv('1_peforma_cleaned.csv', index=False)"
   ]
  },
  {
   "cell_type": "code",
   "execution_count": null,
   "id": "ce640f77",
   "metadata": {},
   "outputs": [],
   "source": [
    "# Normalisasi Data"
   ]
  },
  {
   "cell_type": "code",
   "execution_count": 32,
   "id": "7dd5b3f2",
   "metadata": {},
   "outputs": [
    {
     "name": "stdout",
     "output_type": "stream",
     "text": [
      "   gender parental level of education  math score  reading score  \\\n",
      "0  female           bachelor's degree    0.373174       0.168406   \n",
      "1  female                some college    0.164871       1.453233   \n",
      "2  female             master's degree    1.622992       1.810130   \n",
      "3    male          associate's degree   -1.362684      -0.902283   \n",
      "4    male                some college    0.650912       0.596682   \n",
      "\n",
      "   writing score  final score  \n",
      "0       0.374241    72.666667  \n",
      "1       1.338567    82.333333  \n",
      "2       1.682969    92.666667  \n",
      "3      -1.692172    49.333333  \n",
      "4       0.443121    76.333333  \n"
     ]
    }
   ],
   "source": [
    "import pandas as pd\n",
    "from sklearn.preprocessing import StandardScaler\n",
    "\n",
    "# Load data\n",
    "df = pd.read_csv('1_peforma_cleaned.csv')\n",
    "\n",
    "# Kolom numerik yang perlu dinormalisasi\n",
    "kolom_numerik = ['math score', 'reading score', 'writing score']\n",
    "\n",
    "# Membuat objek StandardScaler\n",
    "scaler = StandardScaler()\n",
    "\n",
    "# Melakukan normalisasi pada kolom numerik\n",
    "df[kolom_numerik] = scaler.fit_transform(df[kolom_numerik])\n",
    "\n",
    "# Menampilkan data setelah normalisasi\n",
    "print(df.head())"
   ]
  },
  {
   "cell_type": "code",
   "execution_count": null,
   "id": "40971b30",
   "metadata": {},
   "outputs": [],
   "source": [
    "# encoding"
   ]
  },
  {
   "cell_type": "code",
   "execution_count": 33,
   "id": "21df6e12",
   "metadata": {},
   "outputs": [
    {
     "name": "stdout",
     "output_type": "stream",
     "text": [
      "   gender  parental level of education  math score  reading score  \\\n",
      "0  female                            1    0.373174       0.168406   \n",
      "1  female                            4    0.164871       1.453233   \n",
      "2  female                            3    1.622992       1.810130   \n",
      "3    male                            0   -1.362684      -0.902283   \n",
      "4    male                            4    0.650912       0.596682   \n",
      "\n",
      "   writing score  final score  \n",
      "0       0.374241    72.666667  \n",
      "1       1.338567    82.333333  \n",
      "2       1.682969    92.666667  \n",
      "3      -1.692172    49.333333  \n",
      "4       0.443121    76.333333  \n"
     ]
    }
   ],
   "source": [
    "from sklearn.preprocessing import LabelEncoder\n",
    "\n",
    "# Kolom kategorikal yang perlu di-encode\n",
    "kolom_kategorikal = ['parental level of education']\n",
    "\n",
    "# Membuat objek LabelEncoder\n",
    "label_encoder = LabelEncoder()\n",
    "\n",
    "# Melakukan Label Encoding pada kolom kategorikal\n",
    "for kolom in kolom_kategorikal:\n",
    "    df[kolom] = label_encoder.fit_transform(df[kolom])\n",
    "\n",
    "# Menampilkan data setelah encoding\n",
    "print(df.head())"
   ]
  }
 ],
 "metadata": {
  "kernelspec": {
   "display_name": ".venv",
   "language": "python",
   "name": "python3"
  },
  "language_info": {
   "codemirror_mode": {
    "name": "ipython",
    "version": 3
   },
   "file_extension": ".py",
   "mimetype": "text/x-python",
   "name": "python",
   "nbconvert_exporter": "python",
   "pygments_lexer": "ipython3",
   "version": "3.12.7"
  }
 },
 "nbformat": 4,
 "nbformat_minor": 5
}
